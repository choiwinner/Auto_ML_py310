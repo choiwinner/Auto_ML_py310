{
 "cells": [
  {
   "cell_type": "code",
   "execution_count": 1,
   "id": "60aeb23f",
   "metadata": {},
   "outputs": [],
   "source": [
    "import pandas as pd"
   ]
  },
  {
   "cell_type": "code",
   "execution_count": 3,
   "id": "b465e057",
   "metadata": {},
   "outputs": [],
   "source": [
    "df = pd.read_csv(\"insurance.csv\")"
   ]
  },
  {
   "cell_type": "code",
   "execution_count": 5,
   "id": "dd023897",
   "metadata": {},
   "outputs": [],
   "source": [
    "y = df.pop(\"charges\")"
   ]
  },
  {
   "cell_type": "code",
   "execution_count": 8,
   "id": "d1a4fe78",
   "metadata": {},
   "outputs": [],
   "source": [
    "y.to_csv(\"insurance_test_y.csv\", index=False)"
   ]
  },
  {
   "cell_type": "code",
   "execution_count": 9,
   "id": "6c808311",
   "metadata": {},
   "outputs": [],
   "source": [
    "df.to_csv(\"insurance_test_x.csv\", index=False)"
   ]
  },
  {
   "cell_type": "code",
   "execution_count": null,
   "id": "89d722b9",
   "metadata": {},
   "outputs": [],
   "source": []
  }
 ],
 "metadata": {
  "kernelspec": {
   "display_name": "py310",
   "language": "python",
   "name": "python3"
  },
  "language_info": {
   "codemirror_mode": {
    "name": "ipython",
    "version": 3
   },
   "file_extension": ".py",
   "mimetype": "text/x-python",
   "name": "python",
   "nbconvert_exporter": "python",
   "pygments_lexer": "ipython3",
   "version": "3.10.17"
  }
 },
 "nbformat": 4,
 "nbformat_minor": 5
}
